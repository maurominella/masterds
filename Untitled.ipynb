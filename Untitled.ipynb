{
 "cells": [
  {
   "cell_type": "code",
   "execution_count": 129,
   "id": "eb0645d3-a136-43a3-8fbe-fdc707626725",
   "metadata": {},
   "outputs": [
    {
     "name": "stdout",
     "output_type": "stream",
     "text": [
      "0\n",
      "1\n",
      "2\n",
      "3\n",
      "4\n"
     ]
    }
   ],
   "source": [
    "for n in range(5):\n",
    "    print(n)"
   ]
  },
  {
   "cell_type": "code",
   "execution_count": 127,
   "id": "96e5b0c0-d526-45dd-ba17-155778c2e1b0",
   "metadata": {},
   "outputs": [
    {
     "name": "stdout",
     "output_type": "stream",
     "text": [
      "1\n",
      "2\n",
      "3\n",
      "6\n",
      "8\n",
      "-44\n"
     ]
    }
   ],
   "source": [
    "for n in [1,2,3,6,8,-44]:\n",
    "    print(n)"
   ]
  },
  {
   "cell_type": "code",
   "execution_count": 130,
   "id": "2c49ebf4-ad93-4282-be99-3e231112d763",
   "metadata": {},
   "outputs": [
    {
     "name": "stdout",
     "output_type": "stream",
     "text": [
      "0\n",
      "1\n",
      "2\n",
      "3\n",
      "4\n"
     ]
    }
   ],
   "source": [
    "counter = 0\n",
    "\n",
    "while counter < 5:\n",
    "    print(counter)\n",
    "    counter += 1"
   ]
  },
  {
   "cell_type": "code",
   "execution_count": 12,
   "id": "cc19d9b6-122a-44a9-8d93-fa6250e13e5c",
   "metadata": {},
   "outputs": [
    {
     "data": {
      "text/plain": [
       "[[15, 21, 30], [-54, 500, 6]]"
      ]
     },
     "execution_count": 12,
     "metadata": {},
     "output_type": "execute_result"
    }
   ],
   "source": [
    "multi_dim_list = [\n",
    "    [15,21,30],\n",
    "    [-54,500,6]\n",
    "]\n",
    "\n",
    "multi_dim_list"
   ]
  },
  {
   "cell_type": "code",
   "execution_count": 13,
   "id": "74c82e27-23b5-4b58-bdd5-c51cbc42b287",
   "metadata": {},
   "outputs": [
    {
     "data": {
      "text/plain": [
       "6"
      ]
     },
     "execution_count": 13,
     "metadata": {},
     "output_type": "execute_result"
    }
   ],
   "source": [
    "multi_dim_list[1][2] # the third element of the second line, e.g. 6"
   ]
  },
  {
   "cell_type": "code",
   "execution_count": 14,
   "id": "eb7e023b-3af4-427e-8f87-843eea7c7fdd",
   "metadata": {},
   "outputs": [
    {
     "name": "stdout",
     "output_type": "stream",
     "text": [
      "15\n",
      "21\n",
      "30\n",
      "-54\n",
      "500\n",
      "6\n"
     ]
    }
   ],
   "source": [
    "for i in [0,1]:\n",
    "    for j in [0,1,2]:\n",
    "        print(multi_dim_list[i][j])\n"
   ]
  }
 ],
 "metadata": {
  "kernelspec": {
   "display_name": "masterds",
   "language": "python",
   "name": "masterds"
  },
  "language_info": {
   "codemirror_mode": {
    "name": "ipython",
    "version": 3
   },
   "file_extension": ".py",
   "mimetype": "text/x-python",
   "name": "python",
   "nbconvert_exporter": "python",
   "pygments_lexer": "ipython3",
   "version": "3.11.11"
  }
 },
 "nbformat": 4,
 "nbformat_minor": 5
}
